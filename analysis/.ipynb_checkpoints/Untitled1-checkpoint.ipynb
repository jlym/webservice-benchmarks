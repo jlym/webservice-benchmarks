{
 "cells": [
  {
   "cell_type": "code",
   "execution_count": 20,
   "metadata": {},
   "outputs": [],
   "source": [
    "using DataFrames\n",
    "using Dates\n",
    "using SQLite\n"
   ]
  },
  {
   "cell_type": "code",
   "execution_count": 13,
   "metadata": {},
   "outputs": [
    {
     "data": {
      "text/html": [
       "<table class=\"data-frame\"><thead><tr><th></th><th>variable</th><th>mean</th><th>min</th><th>median</th><th>max</th></tr><tr><th></th><th>Symbol</th><th>Union…</th><th>Any</th><th>Union…</th><th>Any</th></tr></thead><tbody><p>6 rows × 8 columns (omitted printing of 3 columns)</p><tr><th>1</th><td>id</td><td></td><td>0008db7b-652a-4d3b-9c40-0f57c8b4eb94</td><td></td><td>ffc523ed-b4fe-4543-8ee0-ea70532b3040</td></tr><tr><th>2</th><td>worker_id</td><td>4.48334</td><td>0</td><td>4.0</td><td>9</td></tr><tr><th>3</th><td>start_time</td><td></td><td>2019-08-19 21:45:28.475643804-07:00</td><td></td><td>2019-08-19 21:45:57.341491497-07:00</td></tr><tr><th>4</th><td>end_time</td><td></td><td>2019-08-19 21:45:28.593233664-07:00</td><td></td><td>2019-08-19 21:45:57.454919409-07:00</td></tr><tr><th>5</th><td>duration_ms</td><td>188.165</td><td>75</td><td>184.0</td><td>366</td></tr><tr><th>6</th><td>success</td><td>1.0</td><td>1</td><td>1.0</td><td>1</td></tr></tbody></table>"
      ],
      "text/latex": [
       "\\begin{tabular}{r|cccccc}\n",
       "\t& variable & mean & min & median & max & \\\\\n",
       "\t\\hline\n",
       "\t& Symbol & Union… & Any & Union… & Any & \\\\\n",
       "\t\\hline\n",
       "\t1 & id &  & 0008db7b-652a-4d3b-9c40-0f57c8b4eb94 &  & ffc523ed-b4fe-4543-8ee0-ea70532b3040 & $\\dots$ \\\\\n",
       "\t2 & worker\\_id & 4.48334 & 0 & 4.0 & 9 & $\\dots$ \\\\\n",
       "\t3 & start\\_time &  & 2019-08-19 21:45:28.475643804-07:00 &  & 2019-08-19 21:45:57.341491497-07:00 & $\\dots$ \\\\\n",
       "\t4 & end\\_time &  & 2019-08-19 21:45:28.593233664-07:00 &  & 2019-08-19 21:45:57.454919409-07:00 & $\\dots$ \\\\\n",
       "\t5 & duration\\_ms & 188.165 & 75 & 184.0 & 366 & $\\dots$ \\\\\n",
       "\t6 & success & 1.0 & 1 & 1.0 & 1 & $\\dots$ \\\\\n",
       "\\end{tabular}\n"
      ],
      "text/plain": [
       "6×8 DataFrame. Omitted printing of 4 columns\n",
       "│ Row │ variable    │ mean    │ min                                  │ median │\n",
       "│     │ \u001b[90mSymbol\u001b[39m      │ \u001b[90mUnion…\u001b[39m  │ \u001b[90mAny\u001b[39m                                  │ \u001b[90mUnion…\u001b[39m │\n",
       "├─────┼─────────────┼─────────┼──────────────────────────────────────┼────────┤\n",
       "│ 1   │ id          │         │ 0008db7b-652a-4d3b-9c40-0f57c8b4eb94 │        │\n",
       "│ 2   │ worker_id   │ 4.48334 │ 0                                    │ 4.0    │\n",
       "│ 3   │ start_time  │         │ 2019-08-19 21:45:28.475643804-07:00  │        │\n",
       "│ 4   │ end_time    │         │ 2019-08-19 21:45:28.593233664-07:00  │        │\n",
       "│ 5   │ duration_ms │ 188.165 │ 75                                   │ 184.0  │\n",
       "│ 6   │ success     │ 1.0     │ 1                                    │ 1.0    │"
      ]
     },
     "execution_count": 13,
     "metadata": {},
     "output_type": "execute_result"
    }
   ],
   "source": [
    "db = SQLite.DB(\"./data.sqlite3\")\n",
    "query = SQLite.Query(db, \"SELECT * FROM requests;\")\n",
    "df = DataFrame(query)\n",
    "#rows = []\n",
    "#for row in query\n",
    "#    push!(rows, row)\n",
    "#end\n",
    "\n",
    "describe(df)"
   ]
  },
  {
   "cell_type": "code",
   "execution_count": 41,
   "metadata": {},
   "outputs": [
    {
     "data": {
      "text/plain": [
       "2019-08-19T21:45:57.454"
      ]
     },
     "execution_count": 41,
     "metadata": {},
     "output_type": "execute_result"
    }
   ],
   "source": [
    "function convert_time_string(s::String)::DateTime\n",
    "    t = s[1:23]\n",
    "    return DateTime(t, \"y-m-d H:M:S.s\")\n",
    "end\n",
    "\n",
    "\n",
    "df.start_time_2 = map(convert_time_string, df.start_time);\n",
    "df.end_time_2 = map(convert_time_string, df.end_time);\n",
    "\n",
    "test_start_time = minimum(df.start_time_2);\n",
    "println(test_start_time);\n",
    "test_end_time = maximum(df.end_time_2)\n",
    "println(test_end_time);"
   ]
  },
  {
   "cell_type": "code",
   "execution_count": null,
   "metadata": {},
   "outputs": [],
   "source": []
  }
 ],
 "metadata": {
  "kernelspec": {
   "display_name": "Julia 1.1.1",
   "language": "julia",
   "name": "julia-1.1"
  },
  "language_info": {
   "file_extension": ".jl",
   "mimetype": "application/julia",
   "name": "julia",
   "version": "1.1.1"
  }
 },
 "nbformat": 4,
 "nbformat_minor": 2
}
